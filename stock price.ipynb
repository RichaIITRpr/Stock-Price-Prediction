{
 "cells": [
  {
   "cell_type": "code",
   "execution_count": 154,
   "id": "f086c0ae",
   "metadata": {},
   "outputs": [
    {
     "data": {
      "text/html": [
       "<div>\n",
       "<style scoped>\n",
       "    .dataframe tbody tr th:only-of-type {\n",
       "        vertical-align: middle;\n",
       "    }\n",
       "\n",
       "    .dataframe tbody tr th {\n",
       "        vertical-align: top;\n",
       "    }\n",
       "\n",
       "    .dataframe thead th {\n",
       "        text-align: right;\n",
       "    }\n",
       "</style>\n",
       "<table border=\"1\" class=\"dataframe\">\n",
       "  <thead>\n",
       "    <tr style=\"text-align: right;\">\n",
       "      <th></th>\n",
       "      <th>Symbol</th>\n",
       "      <th>Series</th>\n",
       "      <th>Date</th>\n",
       "      <th>Prev Close</th>\n",
       "      <th>Open Price</th>\n",
       "      <th>High Price</th>\n",
       "      <th>Low Price</th>\n",
       "      <th>Last Price</th>\n",
       "      <th>Close Price</th>\n",
       "      <th>Average Price</th>\n",
       "      <th>Total Traded Quantity</th>\n",
       "      <th>Turnover</th>\n",
       "      <th>No. of Trades</th>\n",
       "      <th>Deliverable Qty</th>\n",
       "      <th>% Dly Qt to Traded Qty</th>\n",
       "    </tr>\n",
       "  </thead>\n",
       "  <tbody>\n",
       "    <tr>\n",
       "      <th>0</th>\n",
       "      <td>AMBUJACEM</td>\n",
       "      <td>EQ</td>\n",
       "      <td>06-Jul-2020</td>\n",
       "      <td>195.80</td>\n",
       "      <td>197.75</td>\n",
       "      <td>198.00</td>\n",
       "      <td>193.35</td>\n",
       "      <td>193.90</td>\n",
       "      <td>193.90</td>\n",
       "      <td>195.43</td>\n",
       "      <td>2632304</td>\n",
       "      <td>5.144387e+08</td>\n",
       "      <td>32718</td>\n",
       "      <td>965894</td>\n",
       "      <td>36.69</td>\n",
       "    </tr>\n",
       "    <tr>\n",
       "      <th>1</th>\n",
       "      <td>AMBUJACEM</td>\n",
       "      <td>EQ</td>\n",
       "      <td>07-Jul-2020</td>\n",
       "      <td>193.90</td>\n",
       "      <td>194.60</td>\n",
       "      <td>194.60</td>\n",
       "      <td>191.10</td>\n",
       "      <td>193.35</td>\n",
       "      <td>193.25</td>\n",
       "      <td>192.87</td>\n",
       "      <td>2551746</td>\n",
       "      <td>4.921439e+08</td>\n",
       "      <td>38281</td>\n",
       "      <td>1176640</td>\n",
       "      <td>46.11</td>\n",
       "    </tr>\n",
       "    <tr>\n",
       "      <th>2</th>\n",
       "      <td>AMBUJACEM</td>\n",
       "      <td>EQ</td>\n",
       "      <td>08-Jul-2020</td>\n",
       "      <td>193.25</td>\n",
       "      <td>194.25</td>\n",
       "      <td>196.60</td>\n",
       "      <td>192.80</td>\n",
       "      <td>195.25</td>\n",
       "      <td>195.55</td>\n",
       "      <td>194.97</td>\n",
       "      <td>3253882</td>\n",
       "      <td>6.344216e+08</td>\n",
       "      <td>37396</td>\n",
       "      <td>1385581</td>\n",
       "      <td>42.58</td>\n",
       "    </tr>\n",
       "    <tr>\n",
       "      <th>3</th>\n",
       "      <td>AMBUJACEM</td>\n",
       "      <td>EQ</td>\n",
       "      <td>09-Jul-2020</td>\n",
       "      <td>195.55</td>\n",
       "      <td>196.40</td>\n",
       "      <td>202.90</td>\n",
       "      <td>195.60</td>\n",
       "      <td>202.20</td>\n",
       "      <td>202.00</td>\n",
       "      <td>200.40</td>\n",
       "      <td>8857515</td>\n",
       "      <td>1.775016e+09</td>\n",
       "      <td>66225</td>\n",
       "      <td>1916291</td>\n",
       "      <td>21.63</td>\n",
       "    </tr>\n",
       "    <tr>\n",
       "      <th>4</th>\n",
       "      <td>AMBUJACEM</td>\n",
       "      <td>EQ</td>\n",
       "      <td>10-Jul-2020</td>\n",
       "      <td>202.00</td>\n",
       "      <td>202.20</td>\n",
       "      <td>204.35</td>\n",
       "      <td>196.50</td>\n",
       "      <td>196.75</td>\n",
       "      <td>197.20</td>\n",
       "      <td>200.25</td>\n",
       "      <td>6643796</td>\n",
       "      <td>1.330425e+09</td>\n",
       "      <td>49466</td>\n",
       "      <td>1328498</td>\n",
       "      <td>20.00</td>\n",
       "    </tr>\n",
       "  </tbody>\n",
       "</table>\n",
       "</div>"
      ],
      "text/plain": [
       "      Symbol Series         Date  Prev Close  Open Price  High Price  \\\n",
       "0  AMBUJACEM     EQ  06-Jul-2020      195.80      197.75      198.00   \n",
       "1  AMBUJACEM     EQ  07-Jul-2020      193.90      194.60      194.60   \n",
       "2  AMBUJACEM     EQ  08-Jul-2020      193.25      194.25      196.60   \n",
       "3  AMBUJACEM     EQ  09-Jul-2020      195.55      196.40      202.90   \n",
       "4  AMBUJACEM     EQ  10-Jul-2020      202.00      202.20      204.35   \n",
       "\n",
       "   Low Price  Last Price  Close Price  Average Price  Total Traded Quantity  \\\n",
       "0     193.35      193.90       193.90         195.43                2632304   \n",
       "1     191.10      193.35       193.25         192.87                2551746   \n",
       "2     192.80      195.25       195.55         194.97                3253882   \n",
       "3     195.60      202.20       202.00         200.40                8857515   \n",
       "4     196.50      196.75       197.20         200.25                6643796   \n",
       "\n",
       "       Turnover  No. of Trades  Deliverable Qty  % Dly Qt to Traded Qty  \n",
       "0  5.144387e+08          32718           965894                   36.69  \n",
       "1  4.921439e+08          38281          1176640                   46.11  \n",
       "2  6.344216e+08          37396          1385581                   42.58  \n",
       "3  1.775016e+09          66225          1916291                   21.63  \n",
       "4  1.330425e+09          49466          1328498                   20.00  "
      ]
     },
     "execution_count": 154,
     "metadata": {},
     "output_type": "execute_result"
    }
   ],
   "source": [
    "import pandas as pd\n",
    "import numpy as np\n",
    "%matplotlib inline\n",
    "import matplotlib.pyplot as plt\n",
    "\n",
    "raw_data = pd.read_csv('06-07-2020-TO-05-07-2022AMBUJACEMEQN.csv')\n",
    "raw_data.head()"
   ]
  },
  {
   "cell_type": "code",
   "execution_count": 155,
   "id": "eddd174f",
   "metadata": {},
   "outputs": [
    {
     "name": "stdout",
     "output_type": "stream",
     "text": [
      "     Ones  Deliverable Qty  Difference\n",
      "0       1        -0.549889   -0.097038\n",
      "1       1        -0.451681   -0.033522\n",
      "2       1        -0.354313    0.119017\n",
      "3       1        -0.107000    0.329839\n",
      "4       1        -0.380914   -0.237624\n",
      "..    ...              ...         ...\n",
      "494     1         0.279815    0.035602\n",
      "495     1         0.210161   -0.025924\n",
      "496     1         0.501435   -0.068399\n",
      "497     1        -0.359350    0.125344\n",
      "498     1        -0.359188    0.027207\n",
      "\n",
      "[499 rows x 3 columns]\n"
     ]
    }
   ],
   "source": [
    "# separating target x from target value (y)\n",
    "x = raw_data.iloc[:,13:14]\n",
    "x.drop(499, axis=0,inplace=True)\n",
    "x['Deliverable Qty'] = ( x['Deliverable Qty'] - np.mean(x['Deliverable Qty']) )/(np.mean(x['Deliverable Qty']))\n",
    "x['Difference']= ((raw_data['Close Price'] - raw_data['Prev Close'])*10)/(raw_data['Prev Close'])\n",
    "x.insert(0,'Ones',1)\n",
    "print(x)"
   ]
  },
  {
   "cell_type": "code",
   "execution_count": 215,
   "id": "583d89ff",
   "metadata": {},
   "outputs": [
    {
     "name": "stdout",
     "output_type": "stream",
     "text": [
      "     Y Difference\n",
      "0           -0.65\n",
      "1            2.30\n",
      "2            6.45\n",
      "3           -4.80\n",
      "4            1.25\n",
      "..            ...\n",
      "494         -0.95\n",
      "495         -2.50\n",
      "496          4.55\n",
      "497          1.00\n",
      "498         -1.90\n",
      "\n",
      "[499 rows x 1 columns]\n"
     ]
    }
   ],
   "source": [
    "y = raw_data.iloc[:,8:9]\n",
    "y.drop(499, axis=0,inplace=True)\n",
    "\n",
    "y1 = raw_data.iloc[:,8:9]\n",
    "y1.drop(0, axis=0,inplace=True)\n",
    "y1.reset_index(inplace = True)\n",
    "y1.drop('index', axis=1,inplace=True)\n",
    "\n",
    "y['Y Difference'] = y1['Close Price'] - y['Close Price']\n",
    "\n",
    "y.drop('Close Price', axis=1,inplace=True)\n",
    "\n",
    "\n",
    "# x['Difference']= ((raw_data['Close Price'] - raw_data['Prev Close'])*10)/(raw_data['Prev Close'])\n",
    "# y['Close Price'] = y['Close Price']/np.max(y['Close Price'])\n",
    "print(y)#, '\\n', y1)"
   ]
  },
  {
   "cell_type": "code",
   "execution_count": 220,
   "id": "95e55e5a",
   "metadata": {},
   "outputs": [],
   "source": [
    "theta = np.array([0.0,0.0,0.0])\n",
    "\n",
    "# HYPOTHESIS FUNCTION\n",
    "def hypothesis(theta,x):\n",
    "    return x*theta\n",
    "\n",
    "# COST FUNCTION\n",
    "def computeCost(x,y,theta):\n",
    "    y2 = hypothesis(theta,x)\n",
    "    y2 = np.sum(y2,axis=1)\n",
    "#     z = np.sum((y2-y)**2)/(2*len(x))\n",
    "    return np.sum((y2-y['Y Difference'])**2)/(2*len(x))\n",
    "\n",
    "# GRADIENT DESCENT FUNCTION\n",
    "def gradientDescent(x, y, theta, alpha, iters):\n",
    "    J = [] # cost function\n",
    "    for i in range(iters):\n",
    "        y2 = hypothesis(theta,x)\n",
    "        y2 = np.sum(y2, axis=1)\n",
    "        for j in range(0,len(x.columns)):\n",
    "            theta[j] = theta[j] - (alpha*(np.sum((y2-y['Y Difference'])*x.iloc[:,j])))/len(x)\n",
    "#             print(theta)\n",
    "        j = computeCost(x, y, theta) #cost\n",
    "        J.append(j)\n",
    "    return j, J, theta\n",
    "\n",
    "# initialize variables for learning rate and iterations\n",
    "alpha = 0.03\n",
    "iters = 10000\n",
    "\n",
    "j, J, theta = gradientDescent(x,y,theta,alpha,iters)\n"
   ]
  },
  {
   "cell_type": "code",
   "execution_count": 221,
   "id": "8ab2b3d1",
   "metadata": {},
   "outputs": [
    {
     "data": {
      "text/plain": [
       "array([ 0.33784381, -0.15524797,  0.57387787])"
      ]
     },
     "execution_count": 221,
     "metadata": {},
     "output_type": "execute_result"
    }
   ],
   "source": [
    "theta"
   ]
  },
  {
   "cell_type": "code",
   "execution_count": 213,
   "id": "62aa79e9",
   "metadata": {},
   "outputs": [
    {
     "data": {
      "text/html": [
       "<div>\n",
       "<style scoped>\n",
       "    .dataframe tbody tr th:only-of-type {\n",
       "        vertical-align: middle;\n",
       "    }\n",
       "\n",
       "    .dataframe tbody tr th {\n",
       "        vertical-align: top;\n",
       "    }\n",
       "\n",
       "    .dataframe thead th {\n",
       "        text-align: right;\n",
       "    }\n",
       "</style>\n",
       "<table border=\"1\" class=\"dataframe\">\n",
       "  <thead>\n",
       "    <tr style=\"text-align: right;\">\n",
       "      <th></th>\n",
       "      <th>Ones</th>\n",
       "      <th>Deliverable Qty</th>\n",
       "      <th>Difference</th>\n",
       "    </tr>\n",
       "  </thead>\n",
       "  <tbody>\n",
       "    <tr>\n",
       "      <th>0</th>\n",
       "      <td>1</td>\n",
       "      <td>-0.549889</td>\n",
       "      <td>-0.097038</td>\n",
       "    </tr>\n",
       "    <tr>\n",
       "      <th>1</th>\n",
       "      <td>1</td>\n",
       "      <td>-0.451681</td>\n",
       "      <td>-0.033522</td>\n",
       "    </tr>\n",
       "    <tr>\n",
       "      <th>2</th>\n",
       "      <td>1</td>\n",
       "      <td>-0.354313</td>\n",
       "      <td>0.119017</td>\n",
       "    </tr>\n",
       "    <tr>\n",
       "      <th>3</th>\n",
       "      <td>1</td>\n",
       "      <td>-0.107000</td>\n",
       "      <td>0.329839</td>\n",
       "    </tr>\n",
       "    <tr>\n",
       "      <th>4</th>\n",
       "      <td>1</td>\n",
       "      <td>-0.380914</td>\n",
       "      <td>-0.237624</td>\n",
       "    </tr>\n",
       "    <tr>\n",
       "      <th>...</th>\n",
       "      <td>...</td>\n",
       "      <td>...</td>\n",
       "      <td>...</td>\n",
       "    </tr>\n",
       "    <tr>\n",
       "      <th>494</th>\n",
       "      <td>1</td>\n",
       "      <td>0.279815</td>\n",
       "      <td>0.035602</td>\n",
       "    </tr>\n",
       "    <tr>\n",
       "      <th>495</th>\n",
       "      <td>1</td>\n",
       "      <td>0.210161</td>\n",
       "      <td>-0.025924</td>\n",
       "    </tr>\n",
       "    <tr>\n",
       "      <th>496</th>\n",
       "      <td>1</td>\n",
       "      <td>0.501435</td>\n",
       "      <td>-0.068399</td>\n",
       "    </tr>\n",
       "    <tr>\n",
       "      <th>497</th>\n",
       "      <td>1</td>\n",
       "      <td>-0.359350</td>\n",
       "      <td>0.125344</td>\n",
       "    </tr>\n",
       "    <tr>\n",
       "      <th>498</th>\n",
       "      <td>1</td>\n",
       "      <td>-0.359188</td>\n",
       "      <td>0.027207</td>\n",
       "    </tr>\n",
       "  </tbody>\n",
       "</table>\n",
       "<p>499 rows × 3 columns</p>\n",
       "</div>"
      ],
      "text/plain": [
       "     Ones  Deliverable Qty  Difference\n",
       "0       1        -0.549889   -0.097038\n",
       "1       1        -0.451681   -0.033522\n",
       "2       1        -0.354313    0.119017\n",
       "3       1        -0.107000    0.329839\n",
       "4       1        -0.380914   -0.237624\n",
       "..    ...              ...         ...\n",
       "494     1         0.279815    0.035602\n",
       "495     1         0.210161   -0.025924\n",
       "496     1         0.501435   -0.068399\n",
       "497     1        -0.359350    0.125344\n",
       "498     1        -0.359188    0.027207\n",
       "\n",
       "[499 rows x 3 columns]"
      ]
     },
     "execution_count": 213,
     "metadata": {},
     "output_type": "execute_result"
    }
   ],
   "source": [
    "x"
   ]
  },
  {
   "cell_type": "code",
   "execution_count": 222,
   "id": "538c2dc7",
   "metadata": {},
   "outputs": [
    {
     "name": "stdout",
     "output_type": "stream",
     "text": [
      "            0\n",
      "0    0.367525\n",
      "1    0.388729\n",
      "2    0.461151\n",
      "3    0.543743\n",
      "4    0.260613\n",
      "..        ...\n",
      "494  0.314834\n",
      "495  0.290339\n",
      "496  0.220744\n",
      "497  0.465564\n",
      "498  0.409221\n",
      "\n",
      "[499 rows x 1 columns]\n",
      "     Close Price\n",
      "0         193.90\n",
      "1         193.25\n",
      "2         195.55\n",
      "3         202.00\n",
      "4         197.20\n",
      "..           ...\n",
      "494       366.45\n",
      "495       365.50\n",
      "496       363.00\n",
      "497       367.55\n",
      "498       368.55\n",
      "\n",
      "[499 rows x 1 columns]\n"
     ]
    }
   ],
   "source": [
    "#Predicting the output using the optimized theta\n",
    "change = hypothesis(theta,x)\n",
    "change = np.sum(change, axis=1)\n",
    "change = pd.DataFrame(change)\n",
    "print(change)\n",
    "\n",
    "yold = raw_data.iloc[:,8:9]\n",
    "yold.drop(499, axis=0,inplace=True)\n",
    "yold.reset_index(inplace = True)\n",
    "yold.drop('index', axis=1,inplace=True)\n",
    "print(yold)"
   ]
  },
  {
   "cell_type": "code",
   "execution_count": 223,
   "id": "ea49b439",
   "metadata": {},
   "outputs": [
    {
     "data": {
      "text/plain": [
       "pandas.core.frame.DataFrame"
      ]
     },
     "execution_count": 223,
     "metadata": {},
     "output_type": "execute_result"
    }
   ],
   "source": [
    "type(yold)"
   ]
  },
  {
   "cell_type": "code",
   "execution_count": 224,
   "id": "e7f85351",
   "metadata": {},
   "outputs": [
    {
     "data": {
      "text/plain": [
       "pandas.core.frame.DataFrame"
      ]
     },
     "execution_count": 224,
     "metadata": {},
     "output_type": "execute_result"
    }
   ],
   "source": [
    "type(change)"
   ]
  },
  {
   "cell_type": "code",
   "execution_count": 225,
   "id": "4eb7292c",
   "metadata": {},
   "outputs": [
    {
     "data": {
      "text/plain": [
       "(499, 1)"
      ]
     },
     "execution_count": 225,
     "metadata": {},
     "output_type": "execute_result"
    }
   ],
   "source": [
    "yold.shape"
   ]
  },
  {
   "cell_type": "code",
   "execution_count": 226,
   "id": "00ee700d",
   "metadata": {},
   "outputs": [
    {
     "data": {
      "text/plain": [
       "(499, 1)"
      ]
     },
     "execution_count": 226,
     "metadata": {},
     "output_type": "execute_result"
    }
   ],
   "source": [
    "change.shape"
   ]
  },
  {
   "cell_type": "code",
   "execution_count": 227,
   "id": "a8bc73fe",
   "metadata": {},
   "outputs": [],
   "source": [
    "future_close_price = yold.iloc[:,0] + change.iloc[:,0]"
   ]
  },
  {
   "cell_type": "code",
   "execution_count": 228,
   "id": "d15447b6",
   "metadata": {},
   "outputs": [
    {
     "data": {
      "text/plain": [
       "(499,)"
      ]
     },
     "execution_count": 228,
     "metadata": {},
     "output_type": "execute_result"
    }
   ],
   "source": [
    "future_close_price.shape"
   ]
  },
  {
   "cell_type": "code",
   "execution_count": 229,
   "id": "b6e180a5",
   "metadata": {},
   "outputs": [
    {
     "data": {
      "text/plain": [
       "0      194.267525\n",
       "1      193.638729\n",
       "2      196.011151\n",
       "3      202.543743\n",
       "4      197.460613\n",
       "          ...    \n",
       "494    366.764834\n",
       "495    365.790339\n",
       "496    363.220744\n",
       "497    368.015564\n",
       "498    368.959221\n",
       "Length: 499, dtype: float64"
      ]
     },
     "execution_count": 229,
     "metadata": {},
     "output_type": "execute_result"
    }
   ],
   "source": [
    "future_close_price"
   ]
  },
  {
   "cell_type": "code",
   "execution_count": 279,
   "id": "49d77fc9",
   "metadata": {},
   "outputs": [],
   "source": [
    "actual_close_price_tomorrow = raw_data.iloc[:,8:9]\n",
    "actual_close_price_tomorrow.drop(499, axis=0,inplace=True)\n",
    "actual_close_price_tomorrow.drop(0, axis=0,inplace=True)\n",
    "actual_close_price_tomorrow.reset_index(inplace = True)\n",
    "actual_close_price_tomorrow.drop('index', axis=1,inplace=True)\n",
    "\n",
    "\n",
    "predicted_close_price_tomorrow = future_close_price[0:498]\n",
    "predicted_close_price_tomorrow = pd.DataFrame(predicted_close_price_tomorrow)"
   ]
  },
  {
   "cell_type": "code",
   "execution_count": 280,
   "id": "5f4eccc3",
   "metadata": {},
   "outputs": [
    {
     "data": {
      "text/html": [
       "<div>\n",
       "<style scoped>\n",
       "    .dataframe tbody tr th:only-of-type {\n",
       "        vertical-align: middle;\n",
       "    }\n",
       "\n",
       "    .dataframe tbody tr th {\n",
       "        vertical-align: top;\n",
       "    }\n",
       "\n",
       "    .dataframe thead th {\n",
       "        text-align: right;\n",
       "    }\n",
       "</style>\n",
       "<table border=\"1\" class=\"dataframe\">\n",
       "  <thead>\n",
       "    <tr style=\"text-align: right;\">\n",
       "      <th></th>\n",
       "      <th>Close Price</th>\n",
       "    </tr>\n",
       "  </thead>\n",
       "  <tbody>\n",
       "    <tr>\n",
       "      <th>0</th>\n",
       "      <td>193.25</td>\n",
       "    </tr>\n",
       "    <tr>\n",
       "      <th>1</th>\n",
       "      <td>195.55</td>\n",
       "    </tr>\n",
       "    <tr>\n",
       "      <th>2</th>\n",
       "      <td>202.00</td>\n",
       "    </tr>\n",
       "    <tr>\n",
       "      <th>3</th>\n",
       "      <td>197.20</td>\n",
       "    </tr>\n",
       "    <tr>\n",
       "      <th>4</th>\n",
       "      <td>198.45</td>\n",
       "    </tr>\n",
       "    <tr>\n",
       "      <th>...</th>\n",
       "      <td>...</td>\n",
       "    </tr>\n",
       "    <tr>\n",
       "      <th>493</th>\n",
       "      <td>366.45</td>\n",
       "    </tr>\n",
       "    <tr>\n",
       "      <th>494</th>\n",
       "      <td>365.50</td>\n",
       "    </tr>\n",
       "    <tr>\n",
       "      <th>495</th>\n",
       "      <td>363.00</td>\n",
       "    </tr>\n",
       "    <tr>\n",
       "      <th>496</th>\n",
       "      <td>367.55</td>\n",
       "    </tr>\n",
       "    <tr>\n",
       "      <th>497</th>\n",
       "      <td>368.55</td>\n",
       "    </tr>\n",
       "  </tbody>\n",
       "</table>\n",
       "<p>498 rows × 1 columns</p>\n",
       "</div>"
      ],
      "text/plain": [
       "     Close Price\n",
       "0         193.25\n",
       "1         195.55\n",
       "2         202.00\n",
       "3         197.20\n",
       "4         198.45\n",
       "..           ...\n",
       "493       366.45\n",
       "494       365.50\n",
       "495       363.00\n",
       "496       367.55\n",
       "497       368.55\n",
       "\n",
       "[498 rows x 1 columns]"
      ]
     },
     "execution_count": 280,
     "metadata": {},
     "output_type": "execute_result"
    }
   ],
   "source": [
    "actual_close_price_tomorrow"
   ]
  },
  {
   "cell_type": "code",
   "execution_count": 281,
   "id": "ec318c18",
   "metadata": {},
   "outputs": [
    {
     "data": {
      "text/plain": [
       "(498, 1)"
      ]
     },
     "execution_count": 281,
     "metadata": {},
     "output_type": "execute_result"
    }
   ],
   "source": [
    "actual_close_price_tomorrow.shape"
   ]
  },
  {
   "cell_type": "code",
   "execution_count": 282,
   "id": "4d29e356",
   "metadata": {},
   "outputs": [
    {
     "data": {
      "image/png": "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\n",
      "text/plain": [
       "<Figure size 1440x1440 with 1 Axes>"
      ]
     },
     "metadata": {
      "needs_background": "light"
     },
     "output_type": "display_data"
    }
   ],
   "source": [
    "#Plotting the original y and the predicted output ‘y_hat’\n",
    "plt.figure(figsize=(20,20))\n",
    "plt.scatter(x=list(range(0, 498)),y= actual_close_price_tomorrow, color='red')         \n",
    "plt.scatter(x=list(range(0, 498)), y=predicted_close_price_tomorrow, color='black')\n",
    "plt.show()"
   ]
  },
  {
   "cell_type": "code",
   "execution_count": 236,
   "id": "16fd5188",
   "metadata": {},
   "outputs": [
    {
     "data": {
      "text/html": [
       "<div>\n",
       "<style scoped>\n",
       "    .dataframe tbody tr th:only-of-type {\n",
       "        vertical-align: middle;\n",
       "    }\n",
       "\n",
       "    .dataframe tbody tr th {\n",
       "        vertical-align: top;\n",
       "    }\n",
       "\n",
       "    .dataframe thead th {\n",
       "        text-align: right;\n",
       "    }\n",
       "</style>\n",
       "<table border=\"1\" class=\"dataframe\">\n",
       "  <thead>\n",
       "    <tr style=\"text-align: right;\">\n",
       "      <th></th>\n",
       "      <th>Close Price</th>\n",
       "    </tr>\n",
       "  </thead>\n",
       "  <tbody>\n",
       "    <tr>\n",
       "      <th>0</th>\n",
       "      <td>193.90</td>\n",
       "    </tr>\n",
       "    <tr>\n",
       "      <th>1</th>\n",
       "      <td>193.25</td>\n",
       "    </tr>\n",
       "    <tr>\n",
       "      <th>2</th>\n",
       "      <td>195.55</td>\n",
       "    </tr>\n",
       "    <tr>\n",
       "      <th>3</th>\n",
       "      <td>202.00</td>\n",
       "    </tr>\n",
       "    <tr>\n",
       "      <th>4</th>\n",
       "      <td>197.20</td>\n",
       "    </tr>\n",
       "  </tbody>\n",
       "</table>\n",
       "</div>"
      ],
      "text/plain": [
       "   Close Price\n",
       "0       193.90\n",
       "1       193.25\n",
       "2       195.55\n",
       "3       202.00\n",
       "4       197.20"
      ]
     },
     "execution_count": 236,
     "metadata": {},
     "output_type": "execute_result"
    }
   ],
   "source": [
    "yold[0:5]"
   ]
  },
  {
   "cell_type": "code",
   "execution_count": 237,
   "id": "45d2531c",
   "metadata": {},
   "outputs": [
    {
     "data": {
      "text/plain": [
       "0    194.267525\n",
       "1    193.638729\n",
       "2    196.011151\n",
       "3    202.543743\n",
       "4    197.460613\n",
       "dtype: float64"
      ]
     },
     "execution_count": 237,
     "metadata": {},
     "output_type": "execute_result"
    }
   ],
   "source": [
    "future_close_price[0:5]"
   ]
  },
  {
   "cell_type": "code",
   "execution_count": 238,
   "id": "5f5aa71a",
   "metadata": {},
   "outputs": [
    {
     "data": {
      "text/html": [
       "<div>\n",
       "<style scoped>\n",
       "    .dataframe tbody tr th:only-of-type {\n",
       "        vertical-align: middle;\n",
       "    }\n",
       "\n",
       "    .dataframe tbody tr th {\n",
       "        vertical-align: top;\n",
       "    }\n",
       "\n",
       "    .dataframe thead th {\n",
       "        text-align: right;\n",
       "    }\n",
       "</style>\n",
       "<table border=\"1\" class=\"dataframe\">\n",
       "  <thead>\n",
       "    <tr style=\"text-align: right;\">\n",
       "      <th></th>\n",
       "      <th>0</th>\n",
       "    </tr>\n",
       "  </thead>\n",
       "  <tbody>\n",
       "    <tr>\n",
       "      <th>0</th>\n",
       "      <td>0.367525</td>\n",
       "    </tr>\n",
       "    <tr>\n",
       "      <th>1</th>\n",
       "      <td>0.388729</td>\n",
       "    </tr>\n",
       "    <tr>\n",
       "      <th>2</th>\n",
       "      <td>0.461151</td>\n",
       "    </tr>\n",
       "    <tr>\n",
       "      <th>3</th>\n",
       "      <td>0.543743</td>\n",
       "    </tr>\n",
       "    <tr>\n",
       "      <th>4</th>\n",
       "      <td>0.260613</td>\n",
       "    </tr>\n",
       "  </tbody>\n",
       "</table>\n",
       "</div>"
      ],
      "text/plain": [
       "          0\n",
       "0  0.367525\n",
       "1  0.388729\n",
       "2  0.461151\n",
       "3  0.543743\n",
       "4  0.260613"
      ]
     },
     "execution_count": 238,
     "metadata": {},
     "output_type": "execute_result"
    }
   ],
   "source": [
    "change[0:5]"
   ]
  },
  {
   "cell_type": "code",
   "execution_count": 271,
   "id": "3ed4e98c",
   "metadata": {},
   "outputs": [
    {
     "name": "stdout",
     "output_type": "stream",
     "text": [
      "     Close Price  predicted future close price\n",
      "0         193.25                    194.267525\n",
      "1         195.55                    193.638729\n",
      "2         202.00                    196.011151\n",
      "3         197.20                    202.543743\n",
      "4         198.45                    197.460613\n",
      "..           ...                           ...\n",
      "493       366.45                    365.567101\n",
      "494       365.50                    366.764834\n",
      "495       363.00                    365.790339\n",
      "496       367.55                    363.220744\n",
      "497       368.55                    368.015564\n",
      "\n",
      "[498 rows x 2 columns]\n"
     ]
    }
   ],
   "source": [
    "COMPARISON = actual_close_price_tomorrow.iloc[:,:]\n",
    "COMPARISON['predicted future close price'] = predicted_close_price_tomorrow.iloc[:,:]\n",
    "print(COMPARISON)\n",
    "\n",
    "COMPARISON.to_excel('predicted.xlsx',sheet_name='Sheet1')\n",
   ]
  },
  {
   "cell_type": "code",
   "execution_count": null,
   "id": "b071fd74",
   "metadata": {},
   "outputs": [],
   "source": []
  }
 ],
 "metadata": {
  "kernelspec": {
   "display_name": "Python 3 (ipykernel)",
   "language": "python",
   "name": "python3"
  },
  "language_info": {
   "codemirror_mode": {
    "name": "ipython",
    "version": 3
   },
   "file_extension": ".py",
   "mimetype": "text/x-python",
   "name": "python",
   "nbconvert_exporter": "python",
   "pygments_lexer": "ipython3",
   "version": "3.9.12"
  }
 },
 "nbformat": 4,
 "nbformat_minor": 5
}
